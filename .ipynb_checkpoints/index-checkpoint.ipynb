{
 "cells": [
  {
   "cell_type": "markdown",
   "id": "a8b47f3b-e6f7-4fdb-afcc-f15919b6e36a",
   "metadata": {
    "index": 0
   },
   "source": [
    "# Classification Review"
   ]
  },
  {
   "cell_type": "code",
   "execution_count": null,
   "id": "9bc7c7a7-ace6-4111-afe4-9510e018e88e",
   "metadata": {
    "index": 1
   },
   "outputs": [],
   "source": [
    "import pandas as pd\n",
    "df = pd.read_csv('data/aug_train.csv')\n",
    "df.head()"
   ]
  },
  {
   "cell_type": "markdown",
   "id": "43540f2f-0a74-402d-a6a6-20669b843ffa",
   "metadata": {
    "index": 3
   },
   "source": [
    "## 1. Seperate the features from the target.\n",
    "* Assign the features to `X`.\n",
    "* Assign the target to `y`."
   ]
  },
  {
   "cell_type": "code",
   "execution_count": null,
   "id": "e1f1f1e2-e033-485c-8d76-75a68c04deb2",
   "metadata": {
    "index": 4
   },
   "outputs": [],
   "source": [
    "# Your code here"
   ]
  },
  {
   "cell_type": "markdown",
   "id": "90f5871d-5c46-49bf-b943-b9d41f688e05",
   "metadata": {
    "index": 6
   },
   "source": [
    "## 2. Drop the `id` column from `X`."
   ]
  },
  {
   "cell_type": "code",
   "execution_count": null,
   "id": "00300bf3-b7a2-4856-8edc-be3be139a4f7",
   "metadata": {
    "index": 7
   },
   "outputs": [],
   "source": [
    "# Your code here"
   ]
  },
  {
   "cell_type": "markdown",
   "id": "89873d20-c063-45c4-8bce-dabb354ffc0c",
   "metadata": {
    "index": 9
   },
   "source": [
    "## 3. Create a train test split\n",
    "> Set the random state to `2021`."
   ]
  },
  {
   "cell_type": "code",
   "execution_count": null,
   "id": "8dab6027-2188-4108-849a-7176927e013a",
   "metadata": {
    "index": 10
   },
   "outputs": [],
   "source": [
    "# Your code here"
   ]
  },
  {
   "cell_type": "markdown",
   "id": "d49bb94d-96c5-4289-92f7-519c7ed64078",
   "metadata": {
    "index": 12
   },
   "source": [
    "## 4. Select the numeric features"
   ]
  },
  {
   "cell_type": "code",
   "execution_count": null,
   "id": "251472b5-75a9-413d-be03-ae65f9046130",
   "metadata": {
    "index": 13
   },
   "outputs": [],
   "source": [
    "# Your code here"
   ]
  },
  {
   "cell_type": "code",
   "execution_count": null,
   "id": "61189f62-40a1-4151-bcf5-e8c11c427e38",
   "metadata": {
    "index": 14
   },
   "outputs": [],
   "source": [
    "#__SOLUTION__\n",
    "X_train_numeric = X_train.select_dtypes('number')\n",
    "X_test_numeric = X_test[X_train_numeric.columns]"
   ]
  },
  {
   "cell_type": "markdown",
   "id": "cc3d22e4-0683-46b9-9e30-1f71bee3f256",
   "metadata": {
    "index": 15
   },
   "source": [
    "## 5. Import a scaler and scale the data"
   ]
  },
  {
   "cell_type": "code",
   "execution_count": null,
   "id": "834a302e-36a5-4a44-b0d4-8ad4caf66512",
   "metadata": {
    "index": 16
   },
   "outputs": [],
   "source": [
    "# Your code here"
   ]
  },
  {
   "cell_type": "markdown",
   "id": "5d12e968-72a5-405f-afda-f096e866c6e1",
   "metadata": {
    "index": 18
   },
   "source": [
    "## 6. Initialize a logistic regression model\n",
    "* Set the random state to `2021`"
   ]
  },
  {
   "cell_type": "code",
   "execution_count": null,
   "id": "3591ef54-f857-4424-9db2-4ee549b69390",
   "metadata": {
    "index": 19
   },
   "outputs": [],
   "source": [
    "# Your code here"
   ]
  },
  {
   "cell_type": "markdown",
   "id": "92979309-ca13-4ca7-888c-ec539500ff33",
   "metadata": {
    "index": 21
   },
   "source": [
    "## 7. Fit the model to the scaled data"
   ]
  },
  {
   "cell_type": "code",
   "execution_count": null,
   "id": "5993c99d-29ef-4e68-9ef9-3a357eac5bc1",
   "metadata": {
    "index": 22
   },
   "outputs": [],
   "source": [
    "# Your code here"
   ]
  },
  {
   "cell_type": "markdown",
   "id": "68c18c36-bf16-400d-8dab-d6058591e8f1",
   "metadata": {
    "index": 24
   },
   "source": [
    "## 8. Plot a confusion matrix"
   ]
  },
  {
   "cell_type": "code",
   "execution_count": null,
   "id": "da1ba69c-86e2-40a6-afaf-09e5ac492be2",
   "metadata": {
    "index": 25
   },
   "outputs": [],
   "source": [
    "# Your code here"
   ]
  },
  {
   "cell_type": "markdown",
   "id": "9e0ec654-bb62-4628-89ef-1c62d3925093",
   "metadata": {
    "index": 27
   },
   "source": [
    "## 9. Please calculate the accuracy score."
   ]
  },
  {
   "cell_type": "code",
   "execution_count": null,
   "id": "e1ee55ad-d602-4b48-b332-5761f4eb569a",
   "metadata": {
    "index": 29
   },
   "outputs": [],
   "source": [
    "# Run this cell unchanged\n",
    "from src.questions import question_9\n",
    "question_9.display()"
   ]
  },
  {
   "cell_type": "markdown",
   "id": "b7f10d64-c3da-43cc-af8e-a519065b89db",
   "metadata": {
    "index": 30
   },
   "source": [
    "## 10. Please calculate the precision score."
   ]
  },
  {
   "cell_type": "code",
   "execution_count": null,
   "id": "d635126a-c087-45e2-8126-5a9d48bf3bbe",
   "metadata": {
    "index": 32
   },
   "outputs": [],
   "source": [
    "# Run this cell unchanged\n",
    "from src.questions import question_10\n",
    "question_10.display()"
   ]
  },
  {
   "cell_type": "markdown",
   "id": "1cbb9ac6-aa65-4241-b688-7e1601c721f7",
   "metadata": {
    "index": 33
   },
   "source": [
    "## 11. Please calculate the recall score."
   ]
  },
  {
   "cell_type": "code",
   "execution_count": null,
   "id": "f5c3ecd0-0014-4f30-8b59-05ee3d45757d",
   "metadata": {
    "index": 35
   },
   "outputs": [],
   "source": [
    "# Run this cell unchanged\n",
    "from src.questions import question_11\n",
    "question_11.display()"
   ]
  },
  {
   "cell_type": "markdown",
   "id": "959f44d2-40da-4f8b-8126-69b783dc0c62",
   "metadata": {
    "index": 36
   },
   "source": [
    "## 12. Please calculate the f1 score."
   ]
  },
  {
   "cell_type": "code",
   "execution_count": null,
   "id": "60e19db3-ed38-4fc1-9839-65af575e4b2e",
   "metadata": {
    "index": 38
   },
   "outputs": [],
   "source": [
    "# Run this cell unchanged\n",
    "from src.questions import question_12\n",
    "question_12.display()"
   ]
  },
  {
   "cell_type": "markdown",
   "id": "1a950cb6-4c31-4957-a1a5-a492633e094f",
   "metadata": {
    "index": 39
   },
   "source": [
    "## 13. Multiple Choice\n",
    "\n",
    "We are working on a modeling project, and have determined that false positives are the most costly outcome. An ideal metric for this project is:"
   ]
  },
  {
   "cell_type": "code",
   "execution_count": null,
   "id": "435e4190-af56-4c90-97d0-49d6dcb2dba2",
   "metadata": {
    "index": 40
   },
   "outputs": [],
   "source": [
    "# Run this cell unchanged\n",
    "from src.questions import question_13\n",
    "question_13.display()"
   ]
  },
  {
   "cell_type": "markdown",
   "id": "fd464a30-ef17-4291-aa98-f37cffd37e5e",
   "metadata": {
    "index": 41
   },
   "source": [
    "## 14. Multiple Choice\n",
    "\n",
    "We are working on a modeling project, and have determined that false negatives are the most costly outcome. An ideal metric for this project is:"
   ]
  },
  {
   "cell_type": "code",
   "execution_count": null,
   "id": "71e4fe1b-2796-4ddc-9058-c1979ea3dd1e",
   "metadata": {
    "index": 42
   },
   "outputs": [],
   "source": [
    "# Run this cell unchanged\n",
    "from src.questions import question_14\n",
    "question_14.display()"
   ]
  },
  {
   "cell_type": "markdown",
   "id": "92fcbcc3-a64a-494f-9d5d-e0b01d4370e0",
   "metadata": {
    "index": 43
   },
   "source": [
    "## 15. Multiple Choice\n",
    "We are working on a modeling project with imbalanced data, and do not have a strong preference between false positives and false negatives. An ideal metric for this project is:"
   ]
  },
  {
   "cell_type": "code",
   "execution_count": null,
   "id": "b0d63cb3-b5a7-41a4-ac20-656a931d50f5",
   "metadata": {
    "index": 44
   },
   "outputs": [],
   "source": [
    "# Run this cell unchanged\n",
    "from src.questions import question_15\n",
    "question_15.display()"
   ]
  },
  {
   "cell_type": "markdown",
   "id": "5588f88c-a25d-4272-8c2d-6a01ca09cfca",
   "metadata": {
    "index": 45
   },
   "source": [
    "## 16. Multiple Choice\n",
    "\n",
    "We are working on a modeling project with balanced data, and do not have a strong preference between false positives and false negatives. An ideal metric for this project is:"
   ]
  },
  {
   "cell_type": "code",
   "execution_count": null,
   "id": "5817d950-479f-4fad-b9b1-583e53f0e2e3",
   "metadata": {
    "index": 46
   },
   "outputs": [],
   "source": [
    "# Run this cell unchanged\n",
    "from src.questions import question_16\n",
    "question_16.display()"
   ]
  }
 ],
 "metadata": {
  "kernelspec": {
   "display_name": "Python 3",
   "language": "python",
   "name": "python3"
  },
  "language_info": {
   "codemirror_mode": {
    "name": "ipython",
    "version": 3
   },
   "file_extension": ".py",
   "mimetype": "text/x-python",
   "name": "python",
   "nbconvert_exporter": "python",
   "pygments_lexer": "ipython3",
   "version": "3.7.4"
  }
 },
 "nbformat": 4,
 "nbformat_minor": 5
}
