{
 "cells": [
  {
   "cell_type": "markdown",
   "id": "a8b47f3b-e6f7-4fdb-afcc-f15919b6e36a",
   "metadata": {},
   "source": [
    "# Classification Review"
   ]
  },
  {
   "cell_type": "code",
   "execution_count": null,
   "id": "9bc7c7a7-ace6-4111-afe4-9510e018e88e",
   "metadata": {},
   "outputs": [],
   "source": [
    "import pandas as pd\n",
    "df = pd.read_csv('data/aug_train.csv')\n",
    "df.head()"
   ]
  },
  {
   "cell_type": "code",
   "execution_count": null,
   "id": "65557851-fdd5-468a-971a-69004930aff2",
   "metadata": {},
   "outputs": [],
   "source": [
    "#__SOLUTION__\n",
    "import pandas as pd\n",
    "df = pd.read_csv('data/aug_train.csv')\n",
    "df.head()"
   ]
  },
  {
   "cell_type": "markdown",
   "id": "43540f2f-0a74-402d-a6a6-20669b843ffa",
   "metadata": {},
   "source": [
    "## 1. Seperate the features from the target.\n",
    "* Assign the features to `X`.\n",
    "* Assign the target to `y`."
   ]
  },
  {
   "cell_type": "code",
   "execution_count": null,
   "id": "e1f1f1e2-e033-485c-8d76-75a68c04deb2",
   "metadata": {},
   "outputs": [],
   "source": [
    "# Your code here"
   ]
  },
  {
   "cell_type": "code",
   "execution_count": null,
   "id": "3997c7d3-b9b9-4e61-849d-e84da2e75624",
   "metadata": {},
   "outputs": [],
   "source": [
    "#__SOLUTION__\n",
    "X = df.drop('Response', axis = 1)\n",
    "y = df.Response"
   ]
  },
  {
   "cell_type": "markdown",
   "id": "90f5871d-5c46-49bf-b943-b9d41f688e05",
   "metadata": {},
   "source": [
    "## 2. Drop the `id` column from `X`."
   ]
  },
  {
   "cell_type": "code",
   "execution_count": null,
   "id": "00300bf3-b7a2-4856-8edc-be3be139a4f7",
   "metadata": {},
   "outputs": [],
   "source": [
    "# Your code here"
   ]
  },
  {
   "cell_type": "code",
   "execution_count": null,
   "id": "27e5860b-0be8-4b2b-93f3-28f03d946ef6",
   "metadata": {},
   "outputs": [],
   "source": [
    "#__SOLUTION__\n",
    "X = X.drop('id', axis = 1)"
   ]
  },
  {
   "cell_type": "markdown",
   "id": "89873d20-c063-45c4-8bce-dabb354ffc0c",
   "metadata": {},
   "source": [
    "## 3. Create a train test split\n",
    "> Set the random state to `2021`."
   ]
  },
  {
   "cell_type": "code",
   "execution_count": null,
   "id": "8dab6027-2188-4108-849a-7176927e013a",
   "metadata": {},
   "outputs": [],
   "source": [
    "# Your code here"
   ]
  },
  {
   "cell_type": "code",
   "execution_count": null,
   "id": "5edebfea-9759-464c-86b8-ec298fe99ee2",
   "metadata": {},
   "outputs": [],
   "source": [
    "#__SOLUTION__\n",
    "from sklearn.model_selection import train_test_split\n",
    "\n",
    "X_train, X_test, y_train, y_test = train_test_split(X, y, random_state=2021)"
   ]
  },
  {
   "cell_type": "markdown",
   "id": "d49bb94d-96c5-4289-92f7-519c7ed64078",
   "metadata": {},
   "source": [
    "## 4. Select the numeric features"
   ]
  },
  {
   "cell_type": "code",
   "execution_count": null,
   "id": "251472b5-75a9-413d-be03-ae65f9046130",
   "metadata": {},
   "outputs": [],
   "source": [
    "# Your code here"
   ]
  },
  {
   "cell_type": "code",
   "execution_count": null,
   "id": "61189f62-40a1-4151-bcf5-e8c11c427e38",
   "metadata": {},
   "outputs": [],
   "source": [
    "X_train_numeric = X_train.select_dtypes('number')\n",
    "X_test_numeric = X_test[X_train_numeric.columns]"
   ]
  },
  {
   "cell_type": "markdown",
   "id": "cc3d22e4-0683-46b9-9e30-1f71bee3f256",
   "metadata": {},
   "source": [
    "## 5. Import a scaler and scale the data"
   ]
  },
  {
   "cell_type": "code",
   "execution_count": null,
   "id": "834a302e-36a5-4a44-b0d4-8ad4caf66512",
   "metadata": {},
   "outputs": [],
   "source": [
    "# Your code here"
   ]
  },
  {
   "cell_type": "code",
   "execution_count": null,
   "id": "351838d8-626d-4598-8154-cc703be9cc49",
   "metadata": {},
   "outputs": [],
   "source": [
    "#__SOLUTION__\n",
    "from sklearn.preprocessing import StandardScaler\n",
    "\n",
    "scaler = StandardScaler()\n",
    "scaler.fit(X_train_numeric)\n",
    "X_train_scaled = scaler.transform(X_train_numeric)\n",
    "X_test_scaled = scaler.transform(X_test_numeric)"
   ]
  },
  {
   "cell_type": "markdown",
   "id": "5d12e968-72a5-405f-afda-f096e866c6e1",
   "metadata": {},
   "source": [
    "## 6. Initialize a logistic regression model\n",
    "* Set the random state to `2021`"
   ]
  },
  {
   "cell_type": "code",
   "execution_count": null,
   "id": "3591ef54-f857-4424-9db2-4ee549b69390",
   "metadata": {},
   "outputs": [],
   "source": [
    "# Your code here"
   ]
  },
  {
   "cell_type": "code",
   "execution_count": null,
   "id": "2a7478e2-904b-487d-b56a-9f4fd4040eed",
   "metadata": {},
   "outputs": [],
   "source": [
    "#__SOLUTION__\n",
    "from sklearn.linear_model import LogisticRegression\n",
    "\n",
    "model = LogisticRegression(random_state=2021)"
   ]
  },
  {
   "cell_type": "markdown",
   "id": "92979309-ca13-4ca7-888c-ec539500ff33",
   "metadata": {},
   "source": [
    "## 7. Fit the model to the scaled data"
   ]
  },
  {
   "cell_type": "code",
   "execution_count": null,
   "id": "5993c99d-29ef-4e68-9ef9-3a357eac5bc1",
   "metadata": {},
   "outputs": [],
   "source": [
    "# Your code here"
   ]
  },
  {
   "cell_type": "code",
   "execution_count": null,
   "id": "60987e79-71d1-42b8-a6c9-8adcdb167e08",
   "metadata": {},
   "outputs": [],
   "source": [
    "#__SOLUTION__\n",
    "model.fit(X_train_scaled, y_train)"
   ]
  },
  {
   "cell_type": "markdown",
   "id": "68c18c36-bf16-400d-8dab-d6058591e8f1",
   "metadata": {},
   "source": [
    "## 8. Plot a confusion matrix"
   ]
  },
  {
   "cell_type": "code",
   "execution_count": null,
   "id": "da1ba69c-86e2-40a6-afaf-09e5ac492be2",
   "metadata": {},
   "outputs": [],
   "source": [
    "# Your code here"
   ]
  },
  {
   "cell_type": "code",
   "execution_count": null,
   "id": "2cc87894-8e0d-4242-adce-2d9101edee76",
   "metadata": {},
   "outputs": [],
   "source": [
    "#__SOLUTION__\n",
    "from sklearn.metrics import plot_confusion_matrix\n",
    "\n",
    "plot_confusion_matrix(model, X_train_scaled, y_train);"
   ]
  },
  {
   "cell_type": "markdown",
   "id": "9e0ec654-bb62-4628-89ef-1c62d3925093",
   "metadata": {},
   "source": [
    "## 9. Please calculate the accuracy score."
   ]
  },
  {
   "cell_type": "code",
   "execution_count": null,
   "id": "340d60e8-125a-4439-8000-fb8559c76ba0",
   "metadata": {},
   "outputs": [],
   "source": [
    "#__SOLUTION__\n",
    "from sklearn.metrics import accuracy_score\n",
    "score = accuracy_score(y_train, model.predict(X_train_scaled))\n",
    "print('{:.2}'.format(score))"
   ]
  },
  {
   "cell_type": "code",
   "execution_count": null,
   "id": "e1ee55ad-d602-4b48-b332-5761f4eb569a",
   "metadata": {},
   "outputs": [],
   "source": [
    "# Run this cell unchanged\n",
    "from src.questions import question_9\n",
    "question_9.display()"
   ]
  },
  {
   "cell_type": "markdown",
   "id": "b7f10d64-c3da-43cc-af8e-a519065b89db",
   "metadata": {},
   "source": [
    "## 10. Please calculate the precision score."
   ]
  },
  {
   "cell_type": "code",
   "execution_count": null,
   "id": "2c94eee5-babd-4c30-a82c-8d7bdfe6c4c2",
   "metadata": {},
   "outputs": [],
   "source": [
    "#__SOLUTION__\n",
    "from sklearn.metrics import precision_score\n",
    "score = precision_score(y_train, model.predict(X_train_scaled))\n",
    "print('{:.2}'.format(score))"
   ]
  },
  {
   "cell_type": "code",
   "execution_count": null,
   "id": "d635126a-c087-45e2-8126-5a9d48bf3bbe",
   "metadata": {},
   "outputs": [],
   "source": [
    "# Run this cell unchanged\n",
    "from src.questions import question_10\n",
    "question_10.display()"
   ]
  },
  {
   "cell_type": "markdown",
   "id": "1cbb9ac6-aa65-4241-b688-7e1601c721f7",
   "metadata": {},
   "source": [
    "## 11. Please calculate the recall score."
   ]
  },
  {
   "cell_type": "code",
   "execution_count": null,
   "id": "219d267d-9533-4059-be8f-c651021ef6ae",
   "metadata": {},
   "outputs": [],
   "source": [
    "#__SOLUTION__\n",
    "from sklearn.metrics import recall_score\n",
    "score = recall_score(y_train, model.predict(X_train_scaled))\n",
    "print('{:.2}'.format(score))"
   ]
  },
  {
   "cell_type": "code",
   "execution_count": null,
   "id": "f5c3ecd0-0014-4f30-8b59-05ee3d45757d",
   "metadata": {},
   "outputs": [],
   "source": [
    "# Run this cell unchanged\n",
    "from src.questions import question_11\n",
    "question_11.display()"
   ]
  },
  {
   "cell_type": "markdown",
   "id": "959f44d2-40da-4f8b-8126-69b783dc0c62",
   "metadata": {},
   "source": [
    "## 12. Please calculate the f1 score."
   ]
  },
  {
   "cell_type": "code",
   "execution_count": null,
   "id": "0069b8af-3dfe-4de4-804b-35237901fd90",
   "metadata": {},
   "outputs": [],
   "source": [
    "#__SOLUTION__\n",
    "from sklearn.metrics import f1_score\n",
    "score = f1_score(y_train, model.predict(X_train_scaled))\n",
    "print('{:.2}'.format(score))"
   ]
  },
  {
   "cell_type": "code",
   "execution_count": null,
   "id": "60e19db3-ed38-4fc1-9839-65af575e4b2e",
   "metadata": {},
   "outputs": [],
   "source": [
    "# Run this cell unchanged\n",
    "from src.questions import question_12\n",
    "question_12.display()"
   ]
  },
  {
   "cell_type": "markdown",
   "id": "1a950cb6-4c31-4957-a1a5-a492633e094f",
   "metadata": {},
   "source": [
    "## 13. Multiple Choice\n",
    "\n",
    "We are working on a modeling project, and have determined that false positives are the most costly outcome. An ideal metric for this project is:"
   ]
  },
  {
   "cell_type": "code",
   "execution_count": null,
   "id": "435e4190-af56-4c90-97d0-49d6dcb2dba2",
   "metadata": {},
   "outputs": [],
   "source": [
    "# Run this cell unchanged\n",
    "from src.questions import question_13\n",
    "question_13.display()"
   ]
  },
  {
   "cell_type": "markdown",
   "id": "fd464a30-ef17-4291-aa98-f37cffd37e5e",
   "metadata": {},
   "source": [
    "## 14. Multiple Choice\n",
    "\n",
    "We are working on a modeling project, and have determined that false negatives are the most costly outcome. An ideal metric for this project is:"
   ]
  },
  {
   "cell_type": "code",
   "execution_count": null,
   "id": "71e4fe1b-2796-4ddc-9058-c1979ea3dd1e",
   "metadata": {},
   "outputs": [],
   "source": [
    "# Run this cell unchanged\n",
    "from src.questions import question_14\n",
    "question_14.display()"
   ]
  },
  {
   "cell_type": "markdown",
   "id": "92fcbcc3-a64a-494f-9d5d-e0b01d4370e0",
   "metadata": {},
   "source": [
    "## 15. Multiple Choice\n",
    "We are working on a modeling project with imbalanced data, and do not have a strong preference between false positives and false negatives. An ideal metric for this project is:"
   ]
  },
  {
   "cell_type": "code",
   "execution_count": null,
   "id": "b0d63cb3-b5a7-41a4-ac20-656a931d50f5",
   "metadata": {},
   "outputs": [],
   "source": [
    "# Run this cell unchanged\n",
    "from src.questions import question_15\n",
    "question_15.display()"
   ]
  },
  {
   "cell_type": "markdown",
   "id": "5588f88c-a25d-4272-8c2d-6a01ca09cfca",
   "metadata": {},
   "source": [
    "## 16. Multiple Choice\n",
    "\n",
    "We are working on a modeling project with balanced data, and do not have a strong preference between false positives and false negatives. An ideal metric for this project is:"
   ]
  },
  {
   "cell_type": "code",
   "execution_count": null,
   "id": "5817d950-479f-4fad-b9b1-583e53f0e2e3",
   "metadata": {},
   "outputs": [],
   "source": [
    "# Run this cell unchanged\n",
    "from src.questions import question_16\n",
    "question_16.display()"
   ]
  }
 ],
 "metadata": {
  "kernelspec": {
   "display_name": "Python 3",
   "language": "python",
   "name": "python3"
  },
  "language_info": {
   "codemirror_mode": {
    "name": "ipython",
    "version": 3
   },
   "file_extension": ".py",
   "mimetype": "text/x-python",
   "name": "python",
   "nbconvert_exporter": "python",
   "pygments_lexer": "ipython3",
   "version": "3.7.4"
  }
 },
 "nbformat": 4,
 "nbformat_minor": 5
}
